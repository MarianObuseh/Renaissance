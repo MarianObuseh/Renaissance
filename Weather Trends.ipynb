{
 "cells": [
  {
   "cell_type": "markdown",
   "metadata": {},
   "source": [
    "# Exploring Weather Trends\n",
    "\n",
    "In this project, I will analyze local and global temperature data and compare the temperature trends around where I live to overall global temperature trends."
   ]
  },
  {
   "cell_type": "code",
   "execution_count": 1,
   "metadata": {},
   "outputs": [],
   "source": [
    "# importing relevant libraries\n",
    "import pandas as pd\n",
    "import numpy as np\n",
    "import matplotlib.pyplot as plt\n",
    "\n",
    "city_list = pd.read_csv(\"city_list.csv\")\n",
    "city_data = pd.read_csv(\"city_data.csv\")\n",
    "global_data = pd.read_csv(\"global_data.csv\")"
   ]
  },
  {
   "cell_type": "markdown",
   "metadata": {},
   "source": [
    "I import pandas, NumPy and matplotlib libraries and I use Microsoft excel to do a quick exploration of these datsets."
   ]
  },
  {
   "cell_type": "code",
   "execution_count": 2,
   "metadata": {},
   "outputs": [
    {
     "name": "stdout",
     "output_type": "stream",
     "text": [
      "city_list dataset\n",
      "        city               country\n",
      "0    Abidjan         Côte D'Ivoire\n",
      "1  Abu Dhabi  United Arab Emirates\n",
      "2      Abuja               Nigeria\n",
      "3      Accra                 Ghana\n",
      "4      Adana                Turkey\n",
      "\n",
      "\n",
      "city_data dataset\n",
      "   year     city        country  avg_temp\n",
      "0  1849  Abidjan  Côte D'Ivoire     25.58\n",
      "1  1850  Abidjan  Côte D'Ivoire     25.52\n",
      "2  1851  Abidjan  Côte D'Ivoire     25.67\n",
      "3  1852  Abidjan  Côte D'Ivoire       NaN\n",
      "4  1853  Abidjan  Côte D'Ivoire       NaN\n",
      "\n",
      "\n",
      "global_data dataset\n",
      "   year  avg_temp\n",
      "0  1750      8.72\n",
      "1  1751      7.98\n",
      "2  1752      5.78\n",
      "3  1753      8.39\n",
      "4  1754      8.47\n"
     ]
    }
   ],
   "source": [
    "# displaying the first five observations in the city list, city and global temperature dataset\n",
    "print(\"city_list dataset\")\n",
    "print(city_list.head())\n",
    "print(\"\\n\")\n",
    "print(\"city_data dataset\")\n",
    "print(city_data.head())\n",
    "print(\"\\n\")\n",
    "print(\"global_data dataset\")\n",
    "print(global_data.head())"
   ]
  },
  {
   "cell_type": "code",
   "execution_count": 3,
   "metadata": {},
   "outputs": [
    {
     "name": "stdout",
     "output_type": "stream",
     "text": [
      "   year     city        country  avg_temp\n",
      "0  1849  Abidjan  Côte D'Ivoire     25.58\n",
      "1  1850  Abidjan  Côte D'Ivoire     25.52\n",
      "2  1851  Abidjan  Côte D'Ivoire     25.67\n",
      "7  1856  Abidjan  Côte D'Ivoire     26.28\n",
      "8  1857  Abidjan  Côte D'Ivoire     25.17\n"
     ]
    }
   ],
   "source": [
    "# dropping observations in the local temperature set with missing values\n",
    "city_data_clean = city_data.dropna()\n",
    "print(city_data_clean.head())"
   ]
  },
  {
   "cell_type": "markdown",
   "metadata": {},
   "source": [
    "I select Kansas City, Missouri from the `city_data` dataset to represent the local temperature.\n",
    "\n",
    "According to [Wikipedia](https://en.wikipedia.org/wiki/Climate), climate is the long-term average of weather, typically averaged over a period of 30 years. Therefore, to visualize the climate changes, I calculate moving averages for both datasets. I create a separate column for these values and call it `30_years_MA`. The averages move every 30 years for both datasets.The `.rolling()` series method is very instrumental in achieving this. I also drop the datapoints that have no temperature value because I assume that these data are Missing Completely at Random (MCAR).\n",
    "\n"
   ]
  },
  {
   "cell_type": "code",
   "execution_count": 4,
   "metadata": {},
   "outputs": [
    {
     "name": "stdout",
     "output_type": "stream",
     "text": [
      "    year  avg_temp  30_years_MA\n",
      "29  1779      8.98     8.136667\n",
      "30  1780      9.43     8.160333\n",
      "31  1781      8.10     8.164333\n",
      "32  1782      7.90     8.235000\n",
      "33  1783      7.68     8.211333\n",
      "\n",
      "\n"
     ]
    }
   ],
   "source": [
    "# moving average for the global temperature for a 30 year period\n",
    "global_data[\"30_years_MA\"] = global_data.iloc[:, 1].rolling(window = 30).mean()\n",
    "global_data_clean = global_data.dropna()\n",
    "\n",
    "# displaying the first observations in the modified dataset\n",
    "print(global_data_clean.head())\n",
    "print(\"\\n\")"
   ]
  },
  {
   "cell_type": "code",
   "execution_count": 5,
   "metadata": {},
   "outputs": [
    {
     "name": "stdout",
     "output_type": "stream",
     "text": [
      "       year         city        country  avg_temp  30_years_MA\n",
      "30440  1796  Kansas City  United States     11.75    10.193333\n",
      "30441  1797  Kansas City  United States     11.57    10.121667\n",
      "30442  1798  Kansas City  United States     12.21    10.151000\n",
      "30443  1799  Kansas City  United States     11.98    10.730333\n",
      "30444  1800  Kansas City  United States     11.85    10.773000\n"
     ]
    },
    {
     "name": "stderr",
     "output_type": "stream",
     "text": [
      "C:\\ProgramData\\Anaconda3\\lib\\site-packages\\ipykernel_launcher.py:2: SettingWithCopyWarning: \n",
      "A value is trying to be set on a copy of a slice from a DataFrame.\n",
      "Try using .loc[row_indexer,col_indexer] = value instead\n",
      "\n",
      "See the caveats in the documentation: http://pandas.pydata.org/pandas-docs/stable/indexing.html#indexing-view-versus-copy\n",
      "  \n"
     ]
    }
   ],
   "source": [
    "kansas_city = city_data_clean[city_data_clean[\"city\"] == \"Kansas City\"]\n",
    "kansas_city[\"30_years_MA\"] = kansas_city.iloc[:,3].rolling(window = 30).mean()\n",
    "kansas_city_clean = kansas_city.dropna()\n",
    "\n",
    "# displaying the first observations in the modified dataset\n",
    "print(kansas_city_clean.head())"
   ]
  },
  {
   "cell_type": "markdown",
   "metadata": {},
   "source": [
    "The modified dataset for the global temperature has average temperature values from 1779 to 2015. This corresponds to 237 datapoints. That of Kansas City has average temperature values from 1796 to 2013 corresponding to 218 datapoints. Since the goal is to compare these datasets, these datasets should intuitively have the same number of datapoints. Consequently, I drop datapoints from 1779 to 1795 and from 2014 to 2015 in the global dataset. This leaves behind datapoints from 1796 to 2013 (218 rows) in both datasets. \n",
    "\n",
    "I proceed by using the `matplotlib` library to do a line plot."
   ]
  },
  {
   "cell_type": "code",
   "execution_count": 6,
   "metadata": {},
   "outputs": [
    {
     "data": {
      "image/png": "[encoded data removed]",
      "text/plain": [
       "<Figure size 432x288 with 1 Axes>"
      ]
     },
     "metadata": {
      "needs_background": "light"
     },
     "output_type": "display_data"
    }
   ],
   "source": [
    "plt.plot(kansas_city_clean[\"year\"], kansas_city_clean[\"30_years_MA\"], color = 'green', label = 'Kansas City')\n",
    "plt.plot(kansas_city_clean[\"year\"], global_data_clean.loc[46:263,\"30_years_MA\"], color = \"orange\", label = \"Global\")\n",
    "plt.xlabel(\"Year\")\n",
    "plt.ylabel(\"Temperature\")\n",
    "plt.title(\"Kansas City Temperature vs Global Temperature\")\n",
    "plt.legend()\n",
    "plt.show()"
   ]
  },
  {
   "cell_type": "markdown",
   "metadata": {},
   "source": [
    "# Discussions\n",
    "\n",
    "The plot shows the temperature trends for the world and for Kansas City over a period of 218 years. From this plot, the following observations are made:\n",
    "\n",
    "1. Kansas City is generally warmer by about 2 degrees on average when compared to the global average \n",
    "2. In the early 19th century, the average global temperature increased by almost 1 degree and this has been the most rapid change till date\n",
    "3. The global average temperature experienced more increase in the 20th century compared to the 21st century\n",
    "4. Although there are few datapoints in the 21st century, there seems to be a sharp increase in average temperature for both Kansas City and the world\n",
    "5. From around 1810 to 1840, there was a climate change in Kansas City as the weather got cooler in comparison to past years\n",
    "6. From 1840 upwards, the average temperature for Kansas city has experienced a steady increase - Kansas City is getting hotter over time\n",
    "7. Generally, the world is getting hotter"
   ]
  },
  {
   "cell_type": "markdown",
   "metadata": {},
   "source": [
    "# Conclusion\n",
    "\n",
    "I performed an analysis to show average temperature trends in the world and in Kansas City, MO over a 218 year period. This was used to compare the trends in the world to that of Kansas City. In general, the world is getting hotter!\n",
    "\n",
    "# Recommendation\n",
    "\n",
    "I recommend that a documentation for the dataset made available. More information on the `avg_temp` variable like the temperature unit - celsius, Fahrenheit, location of measurement - air or ocean surface  etc would be important in drawing more granular conclusions. \n",
    "\n",
    "-MO"
   ]
  }
 ],
 "metadata": {
  "kernelspec": {
   "display_name": "Python 3",
   "language": "python",
   "name": "python3"
  },
  "language_info": {
   "codemirror_mode": {
    "name": "ipython",
    "version": 3
   },
   "file_extension": ".py",
   "mimetype": "text/x-python",
   "name": "python",
   "nbconvert_exporter": "python",
   "pygments_lexer": "ipython3",
   "version": "3.7.3"
  }
 },
 "nbformat": 4,
 "nbformat_minor": 2
}
